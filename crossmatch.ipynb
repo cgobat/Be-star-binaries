{
 "cells": [
  {
   "cell_type": "markdown",
   "metadata": {},
   "source": [
    "# Searching for Be stars in binaries with compact objects\n",
    "## Catalog cross-matching\n",
    "### Caden Gobat, The George Washington University"
   ]
  },
  {
   "cell_type": "code",
   "execution_count": 7,
   "metadata": {
    "tags": []
   },
   "outputs": [],
   "source": [
    "import numpy as np, pandas as pd, matplotlib.pyplot as plt, astropy.units as u, pickle\n",
    "from astropy.io import ascii as ascii_io\n",
    "from astropy.coordinates import SkyCoord, Angle\n",
    "from astroquery.vizier import Vizier"
   ]
  },
  {
   "cell_type": "markdown",
   "metadata": {},
   "source": [
    "### Initialize ViZier query instance"
   ]
  },
  {
   "cell_type": "code",
   "execution_count": null,
   "metadata": {
    "tags": []
   },
   "outputs": [],
   "source": [
    "v = Vizier(columns=['all', '_RAJ2000', '_DEJ2000', \"_r\"])\n",
    "v.ROW_LIMIT = -1 # no row limit\n",
    "local = True if input(\"If catalogs are stored locally, enter T. To retrieve from web, enter F: \") == \"T\" else False"
   ]
  },
  {
   "cell_type": "markdown",
   "metadata": {},
   "source": [
    "### Load Be star catalog"
   ]
  },
  {
   "cell_type": "code",
   "execution_count": 5,
   "metadata": {
    "tags": []
   },
   "outputs": [],
   "source": [
    "#Jaschek1982 = v.query_constraints(catalog=\"III/67A/catalog\")[0] # old Be catalog; Table object\n",
    "BeSS = ascii_io.read(\"./catalogs/BeSS_catalog.csv\", format=\"csv\", header_start=0, data_start=1)\n",
    "BeSS[\"_RAJ2000\"] = [(float(hms.split()[0])*(360/24)+float(hms.split()[1])/60+float(hms.split()[2])/3600)*u.degree for hms in BeSS[\"RA\"]]\n",
    "BeSS[\"_DEJ2000\"] = [(float(dms.split()[0])+float(dms.split()[1])/60+float(dms.split()[2])/3600)*u.degree for dms in BeSS[\"DEC\"]]"
   ]
  },
  {
   "cell_type": "markdown",
   "metadata": {},
   "source": [
    "### Crossmatch with Gaia data"
   ]
  },
  {
   "cell_type": "code",
   "execution_count": 6,
   "metadata": {
    "tags": []
   },
   "outputs": [
    {
     "data": {
      "text/html": [
       "<i>Table length=1916</i>\n",
       "<table id=\"table2547415781328\" class=\"table-striped table-bordered table-condensed\">\n",
       "<thead><tr><th>_q</th><th>_RAJ2000</th><th>_DEJ2000</th><th>_r</th><th>DR2Name</th><th>RA_ICRS</th><th>e_RA_ICRS</th><th>DE_ICRS</th><th>e_DE_ICRS</th><th>SolID</th><th>Source</th><th>RandomI</th><th>Epoch</th><th>Plx</th><th>e_Plx</th><th>RPlx</th><th>pmRA</th><th>e_pmRA</th><th>pmDE</th><th>e_pmDE</th><th>RADEcor</th><th>RAPlxcor</th><th>RApmRAcor</th><th>RApmDEcor</th><th>DEPlxcor</th><th>DEpmRAcor</th><th>DEpmDEcor</th><th>PlxpmRAcor</th><th>PlxpmDEcor</th><th>pmRApmDEcor</th><th>NAL</th><th>NAC</th><th>NgAL</th><th>NbAL</th><th>gofAL</th><th>chi2AL</th><th>epsi</th><th>sepsi</th><th>Solved</th><th>APF</th><th>WAL</th><th>pscol</th><th>e_pscol</th><th>fvarpi</th><th>MatchObsA</th><th>Nper</th><th>amax</th><th>type</th><th>MatchObs</th><th>Dup</th><th>o_Gmag</th><th>FG</th><th>e_FG</th><th>RFG</th><th>Gmag</th><th>e_Gmag</th><th>o_BPmag</th><th>FBP</th><th>e_FBP</th><th>RFBP</th><th>BPmag</th><th>e_BPmag</th><th>o_RPmag</th><th>FRP</th><th>e_FRP</th><th>RFRP</th><th>RPmag</th><th>e_RPmag</th><th>E_BR_RP_</th><th>Mode</th><th>BP-RP</th><th>BP-G</th><th>G-RP</th><th>RV</th><th>e_RV</th><th>o_RV</th><th>Tefftemp</th><th>loggtemp</th><th>__Fe_H_temp</th><th>Var</th><th>GLON</th><th>GLAT</th><th>ELON</th><th>ELAT</th><th>fPriam</th><th>Teff</th><th>b_Teff</th><th>B_Teff</th><th>AG</th><th>b_AG</th><th>B_AG</th><th>E_BP-RP_</th><th>b_E_BP-RP_</th><th>B_E_BP-RP_</th><th>fFLAME</th><th>Rad</th><th>b_Rad</th><th>B_Rad</th><th>Lum</th><th>b_Lum</th><th>B_Lum</th><th>RAJ2000</th><th>e_RAJ2000</th><th>DEJ2000</th><th>e_DEJ2000</th></tr></thead>\n",
       "<thead><tr><th></th><th>deg</th><th>deg</th><th>arcsec</th><th></th><th>deg</th><th>mas</th><th>deg</th><th>mas</th><th></th><th></th><th></th><th>yr</th><th>mas</th><th>mas</th><th></th><th>mas / yr</th><th>mas / yr</th><th>mas / yr</th><th>mas / yr</th><th></th><th></th><th></th><th></th><th></th><th></th><th></th><th></th><th></th><th></th><th></th><th></th><th></th><th></th><th></th><th></th><th>mas</th><th></th><th></th><th></th><th>1 / mas2</th><th>1 / um</th><th>1 / um</th><th></th><th></th><th></th><th>mas</th><th></th><th></th><th></th><th></th><th>e-/s</th><th>e-/s</th><th></th><th>mag</th><th>mag</th><th></th><th>e-/s</th><th>e-/s</th><th></th><th>mag</th><th>mag</th><th></th><th>e-/s</th><th>e-/s</th><th></th><th>mag</th><th>mag</th><th></th><th></th><th>mag</th><th>mag</th><th>mag</th><th>km / s</th><th>km / s</th><th></th><th>K</th><th>[cm/s2]</th><th></th><th></th><th>deg</th><th>deg</th><th>deg</th><th>deg</th><th></th><th>K</th><th>K</th><th>K</th><th>mag</th><th>mag</th><th>mag</th><th>mag</th><th>mag</th><th>mag</th><th></th><th>Rsun</th><th>Rsun</th><th>Rsun</th><th>Lsun</th><th>Lsun</th><th>Lsun</th><th>deg</th><th>mas</th><th>deg</th><th>mas</th></tr></thead>\n",
       "<thead><tr><th>int32</th><th>float64</th><th>float64</th><th>float64</th><th>bytes28</th><th>float64</th><th>float64</th><th>float64</th><th>float64</th><th>int64</th><th>int64</th><th>int64</th><th>float32</th><th>float64</th><th>float32</th><th>float64</th><th>float64</th><th>float32</th><th>float64</th><th>float32</th><th>float64</th><th>float64</th><th>float64</th><th>float64</th><th>float64</th><th>float64</th><th>float64</th><th>float64</th><th>float64</th><th>float64</th><th>int16</th><th>int16</th><th>int16</th><th>int16</th><th>float64</th><th>float64</th><th>float32</th><th>float32</th><th>int16</th><th>uint8</th><th>float64</th><th>float64</th><th>float32</th><th>float32</th><th>int16</th><th>int16</th><th>float64</th><th>uint8</th><th>int16</th><th>uint8</th><th>int16</th><th>float32</th><th>float32</th><th>float64</th><th>float64</th><th>float64</th><th>int16</th><th>float32</th><th>float32</th><th>float64</th><th>float64</th><th>float64</th><th>int16</th><th>float32</th><th>float32</th><th>float64</th><th>float64</th><th>float64</th><th>float32</th><th>uint8</th><th>float64</th><th>float64</th><th>float64</th><th>float64</th><th>float32</th><th>int16</th><th>float32</th><th>float32</th><th>float32</th><th>bytes13</th><th>float64</th><th>float64</th><th>float64</th><th>float64</th><th>int32</th><th>float64</th><th>float64</th><th>float64</th><th>float32</th><th>float32</th><th>float32</th><th>float32</th><th>float32</th><th>float32</th><th>int32</th><th>float32</th><th>float32</th><th>float64</th><th>float64</th><th>float64</th><th>float64</th><th>float64</th><th>float64</th><th>float64</th><th>float64</th></tr></thead>\n",
       "<tr><td>1</td><td>0.0218798979667</td><td>63.5049148930351</td><td>3.314</td><td>Gaia DR2 431595525500259072</td><td>0.02185846183</td><td>0.1818</td><td>63.50491076662</td><td>0.1641</td><td>1635721458409799680</td><td>431595525500259072</td><td>766754377</td><td>2015.5</td><td>0.2253</td><td>0.2222</td><td>1.0138</td><td>-2.221</td><td>0.400</td><td>-0.958</td><td>0.302</td><td>0.0012</td><td>0.1528</td><td>-0.2532</td><td>0.0858</td><td>0.1528</td><td>0.0682</td><td>0.0520</td><td>-0.0938</td><td>0.2296</td><td>0.0211</td><td>284</td><td>0</td><td>280</td><td>4</td><td>4.5126</td><td>394.14</td><td>0.797</td><td>2.2</td><td>31</td><td>0</td><td>0.2549</td><td>1.4441</td><td>0.0477</td><td>0.046</td><td>33</td><td>19</td><td>0.35687</td><td>0</td><td>37</td><td>0</td><td>305</td><td>520</td><td>1.235</td><td>421.054</td><td>18.8984</td><td>0.0026</td><td>27</td><td>198.1</td><td>7.086</td><td>27.960</td><td>19.6091</td><td>0.0388</td><td>28</td><td>487.7</td><td>6.453</td><td>75.580</td><td>18.0415</td><td>0.0144</td><td>1.319</td><td>0</td><td>1.5676</td><td>0.7107</td><td>0.8569</td><td>--</td><td>--</td><td>0</td><td>--</td><td>--</td><td>--</td><td>NOT_AVAILABLE</td><td>117.24198760017</td><td>1.20187395588</td><td>38.60172532387</td><td>55.19040505455</td><td>--</td><td>--</td><td>--</td><td>--</td><td>--</td><td>--</td><td>--</td><td>--</td><td>--</td><td>--</td><td>--</td><td>--</td><td>--</td><td>--</td><td>--</td><td>--</td><td>--</td><td>0.02187989797</td><td>6.1984</td><td>63.50491489300</td><td>4.6770</td></tr>\n",
       "<tr><td>2</td><td>0.0298878479343</td><td>60.4500481190305</td><td>4.402</td><td>Gaia DR2 429343279011625728</td><td>0.02986334872</td><td>0.4462</td><td>60.45004792073</td><td>0.4936</td><td>1635721458409799680</td><td>429343279011625728</td><td>1616787697</td><td>2015.5</td><td>1.0673</td><td>0.6179</td><td>1.7272</td><td>-2.806</td><td>0.921</td><td>-0.046</td><td>0.884</td><td>-0.0487</td><td>0.0208</td><td>-0.2950</td><td>-0.0598</td><td>0.1980</td><td>-0.1273</td><td>-0.1509</td><td>-0.1200</td><td>0.3742</td><td>-0.1633</td><td>211</td><td>0</td><td>211</td><td>0</td><td>-0.4403</td><td>196.54</td><td>0.000</td><td>0</td><td>31</td><td>0</td><td>0.0493</td><td>1.5857</td><td>0.1417</td><td>0.052</td><td>25</td><td>16</td><td>0.87269</td><td>0</td><td>29</td><td>0</td><td>238</td><td>147.5</td><td>0.9087</td><td>162.296</td><td>20.2665</td><td>0.0067</td><td>20</td><td>56.45</td><td>5.628</td><td>10.030</td><td>20.9722</td><td>0.1082</td><td>24</td><td>167.6</td><td>8.99</td><td>18.643</td><td>19.2013</td><td>0.0582</td><td>1.519</td><td>0</td><td>1.7710</td><td>0.7057</td><td>1.0653</td><td>--</td><td>--</td><td>0</td><td>--</td><td>--</td><td>--</td><td>NOT_AVAILABLE</td><td>116.64162086075</td><td>-1.79343113610</td><td>35.07342258739</td><td>52.94327619755</td><td>--</td><td>--</td><td>--</td><td>--</td><td>--</td><td>--</td><td>--</td><td>--</td><td>--</td><td>--</td><td>--</td><td>--</td><td>--</td><td>--</td><td>--</td><td>--</td><td>--</td><td>0.02988784793</td><td>14.2763</td><td>60.45004811900</td><td>13.7058</td></tr>\n",
       "<tr><td>5</td><td>0.1065258194996</td><td>64.1959216181527</td><td>1.598</td><td>Gaia DR2 431735545734808704</td><td>0.10652581950</td><td>2.2098</td><td>64.19592161815</td><td>1.3005</td><td>1635721458409799680</td><td>431735545734808704</td><td>1437846327</td><td>2015.5</td><td>--</td><td>--</td><td>--</td><td>--</td><td>--</td><td>--</td><td>--</td><td>-0.1801</td><td>--</td><td>--</td><td>--</td><td>--</td><td>--</td><td>--</td><td>--</td><td>--</td><td>--</td><td>75</td><td>0</td><td>74</td><td>1</td><td>-0.9416</td><td>57.92</td><td>0.000</td><td>0</td><td>3</td><td>0</td><td>0.0160</td><td>--</td><td>--</td><td>0.152</td><td>9</td><td>7</td><td>7.8388</td><td>0</td><td>11</td><td>0</td><td>92</td><td>73.72</td><td>1.256</td><td>58.700</td><td>21.0195</td><td>0.0185</td><td>0</td><td>--</td><td>--</td><td>--</td><td>--</td><td>--</td><td>0</td><td>--</td><td>--</td><td>--</td><td>--</td><td>--</td><td>--</td><td>0</td><td>--</td><td>--</td><td>--</td><td>--</td><td>--</td><td>0</td><td>--</td><td>--</td><td>--</td><td>NOT_AVAILABLE</td><td>117.41488307682</td><td>1.87196135625</td><td>39.50214461654</td><td>55.65708620043</td><td>--</td><td>--</td><td>--</td><td>--</td><td>--</td><td>--</td><td>--</td><td>--</td><td>--</td><td>--</td><td>--</td><td>--</td><td>--</td><td>--</td><td>--</td><td>--</td><td>--</td><td>0.10652581950</td><td>2.2098</td><td>64.19592161820</td><td>1.3005</td></tr>\n",
       "<tr><td>9</td><td>0.1954516464357</td><td>58.2115127344761</td><td>3.472</td><td>Gaia DR2 422729647848550784</td><td>0.19537601004</td><td>0.1070</td><td>58.21150182516</td><td>0.0983</td><td>1635721458409799680</td><td>422729647848550784</td><td>1528958268</td><td>2015.5</td><td>0.4441</td><td>0.1535</td><td>2.8933</td><td>-9.254</td><td>0.209</td><td>-2.534</td><td>0.186</td><td>-0.1431</td><td>0.2621</td><td>-0.2310</td><td>0.0244</td><td>-0.0555</td><td>-0.0224</td><td>-0.1362</td><td>-0.2551</td><td>0.2171</td><td>-0.1599</td><td>284</td><td>0</td><td>283</td><td>1</td><td>4.5716</td><td>399.48</td><td>0.349</td><td>1.2</td><td>31</td><td>0</td><td>0.7379</td><td>1.3414</td><td>0.0266</td><td>0.045</td><td>33</td><td>18</td><td>0.19825</td><td>0</td><td>36</td><td>0</td><td>308</td><td>1031</td><td>1.586</td><td>650.127</td><td>18.1554</td><td>0.0017</td><td>31</td><td>325.4</td><td>8.903</td><td>36.549</td><td>19.0703</td><td>0.0297</td><td>29</td><td>1060</td><td>6.96</td><td>152.246</td><td>17.1990</td><td>0.0071</td><td>1.344</td><td>0</td><td>1.8714</td><td>0.9149</td><td>0.9564</td><td>--</td><td>--</td><td>0</td><td>--</td><td>--</td><td>--</td><td>NOT_AVAILABLE</td><td>116.28373963849</td><td>-4.00487233880</td><td>32.82075490623</td><td>51.18225042514</td><td>--</td><td>--</td><td>--</td><td>--</td><td>--</td><td>--</td><td>--</td><td>--</td><td>--</td><td>--</td><td>--</td><td>--</td><td>--</td><td>--</td><td>--</td><td>--</td><td>--</td><td>0.19545164644</td><td>3.2413</td><td>58.21151273450</td><td>2.8792</td></tr>\n",
       "<tr><td>10</td><td>0.2136086657363</td><td>66.3218311614816</td><td>4.234</td><td>Gaia DR2 432343846240754560</td><td>0.21358932701</td><td>0.3176</td><td>66.32182771240</td><td>0.3196</td><td>1635721458409799680</td><td>432343846240754560</td><td>895187249</td><td>2015.5</td><td>0.7154</td><td>0.4044</td><td>1.7691</td><td>-1.804</td><td>0.777</td><td>-0.801</td><td>0.549</td><td>0.0202</td><td>0.2041</td><td>-0.0116</td><td>0.0246</td><td>0.1543</td><td>-0.0799</td><td>-0.2629</td><td>-0.1029</td><td>0.2815</td><td>-0.0075</td><td>273</td><td>0</td><td>273</td><td>0</td><td>0.5069</td><td>279.22</td><td>0.000</td><td>0</td><td>31</td><td>0</td><td>0.0792</td><td>1.0644</td><td>0.0863</td><td>0.080</td><td>31</td><td>17</td><td>0.68343</td><td>0</td><td>34</td><td>0</td><td>299</td><td>212.8</td><td>0.9298</td><td>228.850</td><td>19.8685</td><td>0.0047</td><td>21</td><td>56.92</td><td>15.19</td><td>3.747</td><td>20.9631</td><td>0.2898</td><td>33</td><td>323.6</td><td>6.769</td><td>47.798</td><td>18.4870</td><td>0.0227</td><td>1.788</td><td>0</td><td>2.4761</td><td>1.0946</td><td>1.3815</td><td>--</td><td>--</td><td>0</td><td>--</td><td>--</td><td>--</td><td>NOT_AVAILABLE</td><td>117.87593559766</td><td>3.94789073474</td><td>42.31870234242</td><td>57.10306809881</td><td>--</td><td>--</td><td>--</td><td>--</td><td>--</td><td>--</td><td>--</td><td>--</td><td>--</td><td>--</td><td>--</td><td>--</td><td>--</td><td>--</td><td>--</td><td>--</td><td>--</td><td>0.21360866574</td><td>12.0535</td><td>66.32183116150</td><td>8.5124</td></tr>\n",
       "<tr><td>13</td><td>0.4424483108182</td><td>64.4328155676646</td><td>4.255</td><td>Gaia DR2 431742692559480320</td><td>0.44236944004</td><td>0.2525</td><td>64.43281670878</td><td>0.2608</td><td>1635721458409799680</td><td>431742692559480320</td><td>1644845686</td><td>2015.5</td><td>0.2927</td><td>0.3261</td><td>0.8975</td><td>-7.906</td><td>0.653</td><td>0.265</td><td>0.457</td><td>-0.1745</td><td>-0.0720</td><td>-0.4474</td><td>0.0469</td><td>0.3690</td><td>0.1687</td><td>-0.1398</td><td>0.2764</td><td>0.1927</td><td>-0.0356</td><td>259</td><td>0</td><td>259</td><td>0</td><td>3.3821</td><td>337.30</td><td>0.836</td><td>1.5</td><td>31</td><td>0</td><td>0.1487</td><td>1.2287</td><td>0.0683</td><td>0.110</td><td>30</td><td>15</td><td>0.59359</td><td>0</td><td>34</td><td>0</td><td>279</td><td>333.2</td><td>1.169</td><td>285.095</td><td>19.3815</td><td>0.0038</td><td>9</td><td>167.7</td><td>15.27</td><td>10.984</td><td>19.7899</td><td>0.0988</td><td>9</td><td>424.2</td><td>16.19</td><td>26.201</td><td>18.1930</td><td>0.0414</td><td>1.776</td><td>0</td><td>1.5969</td><td>0.4084</td><td>1.1885</td><td>--</td><td>--</td><td>0</td><td>--</td><td>--</td><td>--</td><td>NOT_AVAILABLE</td><td>117.60375956644</td><td>2.07610894202</td><td>39.98169236054</td><td>55.72221284515</td><td>--</td><td>--</td><td>--</td><td>--</td><td>--</td><td>--</td><td>--</td><td>--</td><td>--</td><td>--</td><td>--</td><td>--</td><td>--</td><td>--</td><td>--</td><td>--</td><td>--</td><td>0.44244831082</td><td>10.1309</td><td>64.43281556770</td><td>7.0821</td></tr>\n",
       "<tr><td>17</td><td>0.4889173569938</td><td>63.0803424661711</td><td>3.275</td><td>Gaia DR2 430079298964901504</td><td>0.48889657675</td><td>0.0794</td><td>63.08033891400</td><td>0.0777</td><td>1635721458409799680</td><td>430079298964901504</td><td>287255516</td><td>2015.5</td><td>0.0911</td><td>0.1061</td><td>0.8585</td><td>-2.185</td><td>0.170</td><td>-0.825</td><td>0.139</td><td>-0.0411</td><td>0.2321</td><td>-0.2258</td><td>0.0836</td><td>0.1107</td><td>-0.0029</td><td>-0.1942</td><td>-0.2052</td><td>0.2711</td><td>-0.0664</td><td>312</td><td>0</td><td>310</td><td>2</td><td>1.0691</td><td>331.47</td><td>0.000</td><td>0</td><td>31</td><td>0</td><td>1.1342</td><td>1.4895</td><td>0.0203</td><td>0.049</td><td>35</td><td>18</td><td>0.15681</td><td>0</td><td>38</td><td>0</td><td>334</td><td>1411</td><td>1.395</td><td>1011.175</td><td>17.8145</td><td>0.0011</td><td>36</td><td>600.6</td><td>10.54</td><td>56.991</td><td>18.4049</td><td>0.0191</td><td>35</td><td>1233</td><td>7.701</td><td>160.148</td><td>17.0343</td><td>0.0068</td><td>1.300</td><td>0</td><td>1.3706</td><td>0.5903</td><td>0.7802</td><td>--</td><td>--</td><td>0</td><td>--</td><td>--</td><td>--</td><td>NOT_AVAILABLE</td><td>117.36544351414</td><td>0.74462044334</td><td>38.35289872109</td><td>54.73883757103</td><td>--</td><td>--</td><td>--</td><td>--</td><td>--</td><td>--</td><td>--</td><td>--</td><td>--</td><td>--</td><td>--</td><td>--</td><td>--</td><td>--</td><td>--</td><td>--</td><td>--</td><td>0.48891735699</td><td>2.6403</td><td>63.08034246620</td><td>2.1556</td></tr>\n",
       "<tr><td>19</td><td>0.5226638428012</td><td>62.4276287323832</td><td>1.091</td><td>Gaia DR2 429945227270650624</td><td>0.52265396880</td><td>0.0986</td><td>62.42762560401</td><td>0.0886</td><td>1635721458409799680</td><td>429945227270650624</td><td>55620812</td><td>2015.5</td><td>0.1625</td><td>0.1185</td><td>1.3713</td><td>-1.062</td><td>0.197</td><td>-0.727</td><td>0.156</td><td>-0.1790</td><td>0.1241</td><td>-0.4434</td><td>0.0947</td><td>0.1062</td><td>0.0575</td><td>-0.2179</td><td>-0.1346</td><td>0.2966</td><td>-0.1410</td><td>300</td><td>0</td><td>297</td><td>3</td><td>2.3752</td><td>352.48</td><td>0.366</td><td>1.6</td><td>31</td><td>0</td><td>0.9272</td><td>1.5185</td><td>0.0229</td><td>0.119</td><td>34</td><td>17</td><td>0.18747</td><td>0</td><td>38</td><td>0</td><td>334</td><td>1260</td><td>1.491</td><td>844.757</td><td>17.9378</td><td>0.0013</td><td>30</td><td>569.5</td><td>8.545</td><td>66.649</td><td>18.4626</td><td>0.0163</td><td>34</td><td>1038</td><td>6.953</td><td>149.348</td><td>17.2210</td><td>0.0073</td><td>1.277</td><td>0</td><td>1.2417</td><td>0.5249</td><td>0.7168</td><td>--</td><td>--</td><td>0</td><td>--</td><td>--</td><td>--</td><td>NOT_AVAILABLE</td><td>117.25632482525</td><td>0.10090671708</td><td>37.60249497466</td><td>54.25267355254</td><td>--</td><td>--</td><td>--</td><td>--</td><td>--</td><td>--</td><td>--</td><td>--</td><td>--</td><td>--</td><td>--</td><td>--</td><td>--</td><td>--</td><td>--</td><td>--</td><td>--</td><td>0.52266384280</td><td>3.0602</td><td>62.42762873240</td><td>2.4234</td></tr>\n",
       "<tr><td>22</td><td>0.5369724740243</td><td>63.2086928469778</td><td>2.305</td><td>Gaia DR2 430087480887215488</td><td>0.53694285959</td><td>0.2070</td><td>63.20868413343</td><td>0.2048</td><td>1635721458409799680</td><td>430087480887215488</td><td>739063425</td><td>2015.5</td><td>0.7238</td><td>0.2632</td><td>2.7500</td><td>-3.100</td><td>0.413</td><td>-2.024</td><td>0.369</td><td>-0.0858</td><td>0.3382</td><td>-0.3081</td><td>0.0799</td><td>0.0363</td><td>0.0105</td><td>-0.1961</td><td>-0.0641</td><td>0.1967</td><td>-0.0774</td><td>325</td><td>0</td><td>323</td><td>2</td><td>1.0289</td><td>343.96</td><td>0.000</td><td>0</td><td>31</td><td>0</td><td>0.1691</td><td>1.4476</td><td>0.0524</td><td>0.133</td><td>37</td><td>18</td><td>0.3769</td><td>0</td><td>41</td><td>0</td><td>358</td><td>335.6</td><td>0.9709</td><td>345.669</td><td>19.3738</td><td>0.0031</td><td>23</td><td>163.2</td><td>9.111</td><td>17.910</td><td>19.8197</td><td>0.0606</td><td>22</td><td>340.3</td><td>11.2</td><td>30.373</td><td>18.4322</td><td>0.0357</td><td>1.500</td><td>0</td><td>1.3875</td><td>0.4459</td><td>0.9416</td><td>--</td><td>--</td><td>0</td><td>--</td><td>--</td><td>--</td><td>NOT_AVAILABLE</td><td>117.41118248758</td><td>0.86648897616</td><td>38.53362179035</td><td>54.81680765790</td><td>--</td><td>--</td><td>--</td><td>--</td><td>--</td><td>--</td><td>--</td><td>--</td><td>--</td><td>--</td><td>--</td><td>--</td><td>--</td><td>--</td><td>--</td><td>--</td><td>--</td><td>0.53697247402</td><td>6.4068</td><td>63.20869284700</td><td>5.7285</td></tr>\n",
       "<tr><td>...</td><td>...</td><td>...</td><td>...</td><td>...</td><td>...</td><td>...</td><td>...</td><td>...</td><td>...</td><td>...</td><td>...</td><td>...</td><td>...</td><td>...</td><td>...</td><td>...</td><td>...</td><td>...</td><td>...</td><td>...</td><td>...</td><td>...</td><td>...</td><td>...</td><td>...</td><td>...</td><td>...</td><td>...</td><td>...</td><td>...</td><td>...</td><td>...</td><td>...</td><td>...</td><td>...</td><td>...</td><td>...</td><td>...</td><td>...</td><td>...</td><td>...</td><td>...</td><td>...</td><td>...</td><td>...</td><td>...</td><td>...</td><td>...</td><td>...</td><td>...</td><td>...</td><td>...</td><td>...</td><td>...</td><td>...</td><td>...</td><td>...</td><td>...</td><td>...</td><td>...</td><td>...</td><td>...</td><td>...</td><td>...</td><td>...</td><td>...</td><td>...</td><td>...</td><td>...</td><td>...</td><td>...</td><td>...</td><td>...</td><td>...</td><td>...</td><td>...</td><td>...</td><td>...</td><td>...</td><td>...</td><td>...</td><td>...</td><td>...</td><td>...</td><td>...</td><td>...</td><td>...</td><td>...</td><td>...</td><td>...</td><td>...</td><td>...</td><td>...</td><td>...</td><td>...</td><td>...</td><td>...</td><td>...</td><td>...</td><td>...</td><td>...</td><td>...</td><td>...</td><td>...</td></tr>\n",
       "<tr><td>2232</td><td>330.9869112981873</td><td>61.9727126666689</td><td>4.637</td><td>Gaia DR2 2204151450801584384</td><td>330.98687432469</td><td>0.3322</td><td>61.97270207131</td><td>0.2548</td><td>1635721458409799680</td><td>2204151450801584384</td><td>940031763</td><td>2015.5</td><td>0.7012</td><td>0.3578</td><td>1.9596</td><td>-4.035</td><td>0.582</td><td>-2.461</td><td>0.470</td><td>0.2196</td><td>0.5597</td><td>0.0926</td><td>-0.0435</td><td>0.0948</td><td>-0.2468</td><td>-0.1357</td><td>0.0360</td><td>0.2308</td><td>0.2234</td><td>186</td><td>0</td><td>184</td><td>2</td><td>0.8181</td><td>194.22</td><td>0.315</td><td>0.16</td><td>31</td><td>0</td><td>0.1767</td><td>1.3610</td><td>0.0775</td><td>-0.033</td><td>21</td><td>15</td><td>0.53673</td><td>0</td><td>23</td><td>0</td><td>199</td><td>326.9</td><td>1.273</td><td>256.801</td><td>19.4024</td><td>0.0042</td><td>7</td><td>113.3</td><td>21.31</td><td>5.318</td><td>20.2153</td><td>0.2042</td><td>6</td><td>294.9</td><td>16.61</td><td>17.749</td><td>18.5877</td><td>0.0612</td><td>1.249</td><td>0</td><td>1.6276</td><td>0.8129</td><td>0.8147</td><td>--</td><td>--</td><td>0</td><td>--</td><td>--</td><td>--</td><td>NOT_AVAILABLE</td><td>104.57401529361</td><td>5.22714060158</td><td>19.06705943222</td><td>64.22882469409</td><td>--</td><td>--</td><td>--</td><td>--</td><td>--</td><td>--</td><td>--</td><td>--</td><td>--</td><td>--</td><td>--</td><td>--</td><td>--</td><td>--</td><td>--</td><td>--</td><td>--</td><td>330.98691129800</td><td>9.0259</td><td>61.97271266670</td><td>7.2927</td></tr>\n",
       "<tr><td>2233</td><td>345.0168150400698</td><td>38.7072526274070</td><td>4.932</td><td>Gaia DR2 1928328891567901824</td><td>345.01678304407</td><td>0.4375</td><td>38.70723844504</td><td>0.4975</td><td>1635721458409799680</td><td>1928328891567901824</td><td>520255154</td><td>2015.5</td><td>0.3987</td><td>0.7147</td><td>0.5578</td><td>-5.799</td><td>0.816</td><td>-3.294</td><td>1.101</td><td>0.2513</td><td>0.2720</td><td>-0.3867</td><td>-0.0656</td><td>0.2319</td><td>-0.0776</td><td>-0.3671</td><td>-0.2247</td><td>-0.2111</td><td>0.1632</td><td>310</td><td>0</td><td>309</td><td>1</td><td>-0.2378</td><td>297.52</td><td>0.000</td><td>0</td><td>31</td><td>0</td><td>0.0384</td><td>1.3135</td><td>0.1211</td><td>-0.003</td><td>36</td><td>13</td><td>1.0153</td><td>0</td><td>42</td><td>0</td><td>363</td><td>141.3</td><td>0.7948</td><td>177.838</td><td>20.3127</td><td>0.0061</td><td>32</td><td>54.79</td><td>4.6</td><td>11.910</td><td>21.0046</td><td>0.0912</td><td>38</td><td>162.9</td><td>4.983</td><td>32.689</td><td>19.2322</td><td>0.0332</td><td>1.540</td><td>0</td><td>1.7725</td><td>0.6919</td><td>1.0805</td><td>--</td><td>--</td><td>0</td><td>--</td><td>--</td><td>--</td><td>NOT_AVAILABLE</td><td>100.22985212721</td><td>-19.20551450682</td><td>4.82606337082</td><td>40.84314506481</td><td>--</td><td>--</td><td>--</td><td>--</td><td>--</td><td>--</td><td>--</td><td>--</td><td>--</td><td>--</td><td>--</td><td>--</td><td>--</td><td>--</td><td>--</td><td>--</td><td>--</td><td>345.01681504000</td><td>12.6571</td><td>38.70725262740</td><td>17.0788</td></tr>\n",
       "<tr><td>2242</td><td>345.2564533396662</td><td>62.0781723614202</td><td>3.868</td><td>Gaia DR2 2206967746755147648</td><td>345.25642393829</td><td>0.4236</td><td>62.07817227833</td><td>0.4366</td><td>1635721458409799680</td><td>2206967746755147648</td><td>111286256</td><td>2015.5</td><td>1.0556</td><td>0.4885</td><td>2.1611</td><td>-3.198</td><td>0.929</td><td>-0.019</td><td>0.877</td><td>-0.0273</td><td>0.1343</td><td>-0.4238</td><td>0.0117</td><td>0.1079</td><td>-0.0046</td><td>-0.3451</td><td>-0.1161</td><td>0.1502</td><td>0.1438</td><td>271</td><td>0</td><td>269</td><td>2</td><td>1.0163</td><td>287.34</td><td>0.998</td><td>0.77</td><td>31</td><td>0</td><td>0.0482</td><td>1.3720</td><td>0.1160</td><td>0.134</td><td>31</td><td>17</td><td>0.86982</td><td>0</td><td>35</td><td>0</td><td>304</td><td>147.9</td><td>0.8037</td><td>184.047</td><td>20.2633</td><td>0.0059</td><td>23</td><td>40.05</td><td>4.622</td><td>8.666</td><td>21.3448</td><td>0.1253</td><td>32</td><td>205.4</td><td>10.9</td><td>18.840</td><td>18.9805</td><td>0.0576</td><td>1.659</td><td>0</td><td>2.3643</td><td>1.0815</td><td>1.2828</td><td>--</td><td>--</td><td>0</td><td>--</td><td>--</td><td>--</td><td>NOT_AVAILABLE</td><td>110.39371287325</td><td>1.92464271705</td><td>28.13298400850</td><td>59.10156232915</td><td>--</td><td>--</td><td>--</td><td>--</td><td>--</td><td>--</td><td>--</td><td>--</td><td>--</td><td>--</td><td>--</td><td>--</td><td>--</td><td>--</td><td>--</td><td>--</td><td>--</td><td>345.25645334000</td><td>14.4024</td><td>62.07817236140</td><td>13.5976</td></tr>\n",
       "<tr><td>2242</td><td>345.2597559817768</td><td>62.0787382689731</td><td>3.432</td><td>Gaia DR2 2206967742460445696</td><td>345.25968521465</td><td>0.2523</td><td>62.07874298037</td><td>0.2445</td><td>1635721458409799680</td><td>2206967742460445696</td><td>1212373310</td><td>2015.5</td><td>0.4033</td><td>0.3097</td><td>1.3024</td><td>-7.696</td><td>0.601</td><td>1.094</td><td>0.510</td><td>0.0895</td><td>0.2144</td><td>-0.2088</td><td>0.0144</td><td>0.1088</td><td>-0.0332</td><td>-0.1299</td><td>-0.0498</td><td>0.2856</td><td>0.3791</td><td>279</td><td>0</td><td>279</td><td>0</td><td>1.8797</td><td>319.66</td><td>0.737</td><td>0.84</td><td>31</td><td>0</td><td>0.1248</td><td>1.3833</td><td>0.0728</td><td>0.106</td><td>32</td><td>18</td><td>0.58291</td><td>0</td><td>35</td><td>0</td><td>306</td><td>279.8</td><td>0.9138</td><td>306.208</td><td>19.5712</td><td>0.0035</td><td>28</td><td>59.05</td><td>6.395</td><td>9.234</td><td>20.9234</td><td>0.1176</td><td>32</td><td>358.3</td><td>7.446</td><td>48.113</td><td>18.3764</td><td>0.0226</td><td>1.491</td><td>0</td><td>2.5470</td><td>1.3522</td><td>1.1948</td><td>--</td><td>--</td><td>0</td><td>--</td><td>--</td><td>--</td><td>NOT_AVAILABLE</td><td>110.39534034870</td><td>1.92453251705</td><td>28.13578654140</td><td>59.10079641009</td><td>--</td><td>--</td><td>--</td><td>--</td><td>--</td><td>--</td><td>--</td><td>--</td><td>--</td><td>--</td><td>--</td><td>--</td><td>--</td><td>--</td><td>--</td><td>--</td><td>--</td><td>345.25975598200</td><td>9.3115</td><td>62.07873826900</td><td>7.9112</td></tr>\n",
       "<tr><td>2245</td><td>345.3704805094484</td><td>56.3489283230711</td><td>3.244</td><td>Gaia DR2 2009016621104614784</td><td>345.37057027567</td><td>0.0225</td><td>56.34893633677</td><td>0.0205</td><td>1635721458409799680</td><td>2009016621104614784</td><td>764130816</td><td>2015.5</td><td>2.7095</td><td>0.0290</td><td>93.5774</td><td>11.553</td><td>0.047</td><td>1.861</td><td>0.044</td><td>-0.1527</td><td>0.3137</td><td>-0.2232</td><td>-0.1128</td><td>-0.0322</td><td>-0.1249</td><td>0.0366</td><td>-0.2707</td><td>-0.0254</td><td>-0.2966</td><td>254</td><td>0</td><td>253</td><td>1</td><td>-2.4121</td><td>197.49</td><td>0.000</td><td>0</td><td>31</td><td>0</td><td>23.6312</td><td>1.4571</td><td>0.0057</td><td>-0.058</td><td>29</td><td>16</td><td>0.05613</td><td>0</td><td>33</td><td>0</td><td>290</td><td>1.916e+04</td><td>49.38</td><td>387.960</td><td>14.9825</td><td>0.0028</td><td>31</td><td>7044</td><td>82.7</td><td>85.173</td><td>15.7319</td><td>0.0127</td><td>30</td><td>1.784e+04</td><td>134.7</td><td>132.394</td><td>14.1335</td><td>0.0082</td><td>1.299</td><td>0</td><td>1.5984</td><td>0.7493</td><td>0.8490</td><td>--</td><td>--</td><td>0</td><td>--</td><td>--</td><td>--</td><td>NOT_AVAILABLE</td><td>108.08689702822</td><td>-3.32041582987</td><td>20.71055199002</td><td>55.02563471028</td><td>100001</td><td>4341.75</td><td>4206.29</td><td>4429.50</td><td>0.5760</td><td>0.4104</td><td>0.8520</td><td>0.2810</td><td>0.1984</td><td>0.4111</td><td>200111</td><td>0.67</td><td>0.64</td><td>0.71</td><td>0.142</td><td>0.138</td><td>0.146</td><td>345.37048050900</td><td>0.7282</td><td>56.34892832310</td><td>0.6842</td></tr>\n",
       "<tr><td>2246</td><td>345.3827139349411</td><td>58.7499458980217</td><td>3.748</td><td>Gaia DR2 2013326771103397760</td><td>345.38269644059</td><td>0.2070</td><td>58.74994075864</td><td>0.1895</td><td>1635721458409799680</td><td>2013326771103397760</td><td>629043547</td><td>2015.5</td><td>0.4581</td><td>0.2626</td><td>1.7448</td><td>-2.108</td><td>0.391</td><td>-1.194</td><td>0.365</td><td>0.1725</td><td>0.3971</td><td>-0.2633</td><td>0.1508</td><td>0.2655</td><td>0.0514</td><td>0.0520</td><td>-0.0685</td><td>0.3243</td><td>0.2101</td><td>254</td><td>0</td><td>251</td><td>3</td><td>-0.3754</td><td>237.12</td><td>0.000</td><td>0</td><td>31</td><td>0</td><td>0.2424</td><td>1.4751</td><td>0.0545</td><td>0.181</td><td>29</td><td>16</td><td>0.36984</td><td>0</td><td>32</td><td>0</td><td>279</td><td>433.5</td><td>1.145</td><td>378.665</td><td>19.0960</td><td>0.0029</td><td>27</td><td>175.4</td><td>9.342</td><td>18.782</td><td>19.7410</td><td>0.0578</td><td>29</td><td>552</td><td>11.67</td><td>47.282</td><td>17.9071</td><td>0.0230</td><td>1.678</td><td>0</td><td>1.8338</td><td>0.6450</td><td>1.1888</td><td>--</td><td>--</td><td>0</td><td>--</td><td>--</td><td>--</td><td>NOT_AVAILABLE</td><td>109.08057241258</td><td>-1.13430389847</td><td>23.66108722567</td><td>56.76631583231</td><td>--</td><td>--</td><td>--</td><td>--</td><td>--</td><td>--</td><td>--</td><td>--</td><td>--</td><td>--</td><td>--</td><td>--</td><td>--</td><td>--</td><td>--</td><td>--</td><td>--</td><td>345.38271393500</td><td>6.0690</td><td>58.74994589800</td><td>5.6622</td></tr>\n",
       "<tr><td>2247</td><td>345.4024701512577</td><td>61.6502572911835</td><td>3.856</td><td>Gaia DR2 2014790289795158016</td><td>345.40247344564</td><td>0.3705</td><td>61.65025033125</td><td>0.3470</td><td>1635721458409799680</td><td>2014790289795158016</td><td>198385185</td><td>2015.5</td><td>-0.6298</td><td>0.4611</td><td>-1.3658</td><td>0.363</td><td>0.735</td><td>-1.616</td><td>0.645</td><td>0.0645</td><td>0.2621</td><td>-0.2006</td><td>-0.0093</td><td>0.1319</td><td>-0.1064</td><td>-0.1947</td><td>-0.2403</td><td>0.2224</td><td>-0.0254</td><td>224</td><td>0</td><td>223</td><td>1</td><td>1.8399</td><td>257.97</td><td>0.564</td><td>0.26</td><td>31</td><td>0</td><td>0.0762</td><td>1.4418</td><td>0.1027</td><td>0.187</td><td>26</td><td>16</td><td>0.66095</td><td>0</td><td>28</td><td>0</td><td>240</td><td>198.7</td><td>0.9186</td><td>216.295</td><td>19.9430</td><td>0.0050</td><td>23</td><td>51.46</td><td>5.83</td><td>8.827</td><td>21.0727</td><td>0.1230</td><td>28</td><td>260.2</td><td>6.54</td><td>39.779</td><td>18.7238</td><td>0.0273</td><td>1.568</td><td>0</td><td>2.3489</td><td>1.1297</td><td>1.2192</td><td>--</td><td>--</td><td>0</td><td>--</td><td>--</td><td>--</td><td>NOT_AVAILABLE</td><td>110.28031911112</td><td>1.50629637984</td><td>27.60350583687</td><td>58.76509787526</td><td>--</td><td>--</td><td>--</td><td>--</td><td>--</td><td>--</td><td>--</td><td>--</td><td>--</td><td>--</td><td>--</td><td>--</td><td>--</td><td>--</td><td>--</td><td>--</td><td>--</td><td>345.40247015100</td><td>11.4031</td><td>61.65025729120</td><td>10.0021</td></tr>\n",
       "<tr><td>2252</td><td>345.6509605027619</td><td>50.4725325486682</td><td>4.223</td><td>Gaia DR2 1986005144099928576</td><td>345.65097452725</td><td>1.4951</td><td>50.47253901391</td><td>1.1210</td><td>1635721458409799680</td><td>1986005144099928576</td><td>1309573682</td><td>2015.5</td><td>-0.5505</td><td>1.4624</td><td>-0.3764</td><td>2.073</td><td>3.564</td><td>1.502</td><td>3.538</td><td>0.0978</td><td>-0.0788</td><td>-0.8020</td><td>0.0073</td><td>-0.2602</td><td>-0.1328</td><td>-0.5531</td><td>0.3656</td><td>-0.3104</td><td>-0.1613</td><td>109</td><td>0</td><td>107</td><td>2</td><td>0.5459</td><td>109.30</td><td>0.000</td><td>0</td><td>31</td><td>0</td><td>0.0294</td><td>1.8147</td><td>0.2726</td><td>0.010</td><td>14</td><td>9</td><td>3.5152</td><td>0</td><td>17</td><td>0</td><td>137</td><td>91.02</td><td>1.121</td><td>81.190</td><td>20.7905</td><td>0.0134</td><td>12</td><td>56.76</td><td>9.259</td><td>6.130</td><td>20.9662</td><td>0.1771</td><td>11</td><td>79.61</td><td>12.18</td><td>6.536</td><td>20.0094</td><td>0.1661</td><td>1.498</td><td>0</td><td>0.9568</td><td>0.1758</td><td>0.7810</td><td>--</td><td>--</td><td>0</td><td>--</td><td>--</td><td>--</td><td>NOT_AVAILABLE</td><td>105.80878558716</td><td>-8.74548083500</td><td>14.72946398253</td><td>50.39100385165</td><td>--</td><td>--</td><td>--</td><td>--</td><td>--</td><td>--</td><td>--</td><td>--</td><td>--</td><td>--</td><td>--</td><td>--</td><td>--</td><td>--</td><td>--</td><td>--</td><td>--</td><td>345.65096050300</td><td>55.2645</td><td>50.47253254870</td><td>54.8445</td></tr>\n",
       "<tr><td>2255</td><td>345.7655256567473</td><td>54.7349545301766</td><td>1.696</td><td>Gaia DR2 2008617219199644928</td><td>345.76551713832</td><td>0.1894</td><td>54.73494391944</td><td>0.1573</td><td>1635721458409799680</td><td>2008617219199644928</td><td>21633963</td><td>2015.5</td><td>-0.3134</td><td>0.2192</td><td>-1.4299</td><td>-1.142</td><td>0.371</td><td>-2.464</td><td>0.320</td><td>0.0771</td><td>0.3018</td><td>-0.3791</td><td>-0.1909</td><td>0.0563</td><td>-0.2205</td><td>0.1674</td><td>-0.1656</td><td>0.0080</td><td>0.0350</td><td>284</td><td>0</td><td>283</td><td>1</td><td>-0.5220</td><td>265.23</td><td>0.000</td><td>0</td><td>31</td><td>0</td><td>0.2843</td><td>1.5427</td><td>0.0454</td><td>-0.035</td><td>32</td><td>16</td><td>0.34313</td><td>0</td><td>35</td><td>0</td><td>308</td><td>476.5</td><td>1.068</td><td>446.112</td><td>18.9932</td><td>0.0024</td><td>31</td><td>158.7</td><td>7.18</td><td>22.110</td><td>19.8496</td><td>0.0491</td><td>33</td><td>444.8</td><td>8.117</td><td>54.792</td><td>18.1416</td><td>0.0198</td><td>1.267</td><td>0</td><td>1.7080</td><td>0.8564</td><td>0.8516</td><td>--</td><td>--</td><td>0</td><td>--</td><td>--</td><td>--</td><td>NOT_AVAILABLE</td><td>107.62927255797</td><td>-4.88456005434</td><td>19.16743667059</td><td>53.66690482602</td><td>--</td><td>--</td><td>--</td><td>--</td><td>--</td><td>--</td><td>--</td><td>--</td><td>--</td><td>--</td><td>--</td><td>--</td><td>--</td><td>--</td><td>--</td><td>--</td><td>--</td><td>345.76552565700</td><td>5.7602</td><td>54.73495453020</td><td>4.9623</td></tr>\n",
       "<tr><td>2261</td><td>345.9788166254978</td><td>46.4127265364853</td><td>2.467</td><td>Gaia DR2 1936120645143535872</td><td>345.97881952038</td><td>0.1398</td><td>46.41272569391</td><td>0.1376</td><td>1635721458409799680</td><td>1936120645143535872</td><td>51066736</td><td>2015.5</td><td>0.2698</td><td>0.2004</td><td>1.3463</td><td>0.464</td><td>0.286</td><td>-0.196</td><td>0.272</td><td>-0.0780</td><td>0.2888</td><td>-0.3647</td><td>-0.2739</td><td>-0.0751</td><td>-0.2816</td><td>0.0233</td><td>-0.1801</td><td>0.0179</td><td>-0.0449</td><td>275</td><td>8</td><td>273</td><td>2</td><td>1.9490</td><td>314.96</td><td>0.090</td><td>0.047</td><td>31</td><td>0</td><td>0.5097</td><td>1.4928</td><td>0.0366</td><td>0.017</td><td>32</td><td>15</td><td>0.25855</td><td>0</td><td>43</td><td>0</td><td>360</td><td>718.7</td><td>1.414</td><td>508.302</td><td>18.5470</td><td>0.0021</td><td>39</td><td>323.8</td><td>5.373</td><td>60.266</td><td>19.0756</td><td>0.0180</td><td>38</td><td>564.1</td><td>6.047</td><td>93.287</td><td>17.8834</td><td>0.0116</td><td>1.236</td><td>0</td><td>1.1922</td><td>0.5286</td><td>0.6636</td><td>--</td><td>--</td><td>0</td><td>--</td><td>--</td><td>--</td><td>NOT_AVAILABLE</td><td>104.30897186845</td><td>-12.53459847908</td><td>11.39869753416</td><td>46.97036250686</td><td>--</td><td>--</td><td>--</td><td>--</td><td>--</td><td>--</td><td>--</td><td>--</td><td>--</td><td>--</td><td>--</td><td>--</td><td>--</td><td>--</td><td>--</td><td>--</td><td>--</td><td>345.97881662500</td><td>4.4330</td><td>46.41272653650</td><td>4.2251</td></tr>\n",
       "</table>"
      ],
      "text/plain": [
       "<Table length=1916>\n",
       "  _q       _RAJ2000          _DEJ2000     ...     DEJ2000     e_DEJ2000\n",
       "             deg               deg        ...       deg          mas   \n",
       "int32      float64           float64      ...     float64      float64 \n",
       "----- ----------------- ----------------- ... --------------- ---------\n",
       "    1   0.0218798979667  63.5049148930351 ...  63.50491489300    4.6770\n",
       "    2   0.0298878479343  60.4500481190305 ...  60.45004811900   13.7058\n",
       "    5   0.1065258194996  64.1959216181527 ...  64.19592161820    1.3005\n",
       "    9   0.1954516464357  58.2115127344761 ...  58.21151273450    2.8792\n",
       "   10   0.2136086657363  66.3218311614816 ...  66.32183116150    8.5124\n",
       "   13   0.4424483108182  64.4328155676646 ...  64.43281556770    7.0821\n",
       "   17   0.4889173569938  63.0803424661711 ...  63.08034246620    2.1556\n",
       "   19   0.5226638428012  62.4276287323832 ...  62.42762873240    2.4234\n",
       "   22   0.5369724740243  63.2086928469778 ...  63.20869284700    5.7285\n",
       "  ...               ...               ... ...             ...       ...\n",
       " 2232 330.9869112981873  61.9727126666689 ...  61.97271266670    7.2927\n",
       " 2233 345.0168150400698  38.7072526274070 ...  38.70725262740   17.0788\n",
       " 2242 345.2564533396662  62.0781723614202 ...  62.07817236140   13.5976\n",
       " 2242 345.2597559817768  62.0787382689731 ...  62.07873826900    7.9112\n",
       " 2245 345.3704805094484  56.3489283230711 ...  56.34892832310    0.6842\n",
       " 2246 345.3827139349411  58.7499458980217 ...  58.74994589800    5.6622\n",
       " 2247 345.4024701512577  61.6502572911835 ...  61.65025729120   10.0021\n",
       " 2252 345.6509605027619  50.4725325486682 ...  50.47253254870   54.8445\n",
       " 2255 345.7655256567473  54.7349545301766 ...  54.73495453020    4.9623\n",
       " 2261 345.9788166254978  46.4127265364853 ...  46.41272653650    4.2251"
      ]
     },
     "execution_count": 6,
     "metadata": {},
     "output_type": "execute_result"
    }
   ],
   "source": [
    "Gaia_BeSS_5as = v.query_region(BeSS, catalog=\"I/345/gaia2\", radius=\"5s\")\n",
    "Gaia_BeSS_5as[0]"
   ]
  },
  {
   "cell_type": "markdown",
   "metadata": {},
   "source": [
    "### Load the XMM, Chandra, and Swift/XRT catalogs\n",
    "Depending on whether the catalogs have been previously downloaded this will either requery them from Vizier or use the locally stored copies."
   ]
  },
  {
   "cell_type": "code",
   "execution_count": 10,
   "metadata": {
    "tags": []
   },
   "outputs": [],
   "source": [
    "if not local:\n",
    "    cats = [None, None, None]\n",
    "    xmatch = [None, None, None]\n",
    "    cat_ids = [\"IX/59/xmm4dr9s\",\"IX/57/csc2master\",\"IX/58/2sxpscle\"]\n",
    "    for i in range(len(cats)):\n",
    "        cats[i] = v.query_constraints(catalog=cat_ids[i])[0]\n",
    "        print(\"Retrieved\",cat_ids[i])\n",
    "        xmatch[i] = v.query_region(Gaia_BeSS_5as[0], catalog=cat_ids[i], radius=\"5s\")\n",
    "        print(\"Crossmatched BeSS/Gaia with\",cat_ids[i])\n",
    "    [XMM, CSC, XRT] = cats\n",
    "    [XMM_xmatch, CSC_xmatch, XRT_xmatch] = xmatch\n",
    "    \n",
    "if local:\n",
    "    with open(\"./catalogs/xmm4dr9s.pkl\",\"rb\") as file:\n",
    "        XMM = pickle.load(file)\n",
    "    with open(\"./catalogs/csc2master.pkl\",\"rb\") as file:\n",
    "        CSC = pickle.load(file)\n",
    "    with open(\"./catalogs/2sxpscle.pkl\",\"rb\") as file:\n",
    "        XRT = pickle.load(file)"
   ]
  },
  {
   "cell_type": "markdown",
   "metadata": {},
   "source": [
    "### Look for coordinate matches between Be stars and x-ray sources"
   ]
  },
  {
   "cell_type": "code",
   "execution_count": 12,
   "metadata": {
    "tags": []
   },
   "outputs": [],
   "source": [
    "BeSS_coords = SkyCoord(np.array(BeSS[\"_RAJ2000\",\"_DEJ2000\"]), frame='icrs') \n",
    "XMM_coords = SkyCoord(np.array(XMM[\"_RAJ2000\",\"_DEJ2000\"]), unit=u.degree, frame='icrs')\n",
    "CSC_coords = SkyCoord(np.array(CSC[\"_RAJ2000\",\"_DEJ2000\"]), unit=u.degree, frame='icrs')\n",
    "XRT_coords = SkyCoord(np.array(XRT[\"_RAJ2000\",\"_DEJ2000\"]), unit=u.degree, frame='icrs')"
   ]
  },
  {
   "cell_type": "code",
   "execution_count": 21,
   "metadata": {
    "tags": []
   },
   "outputs": [],
   "source": [
    "XMM_matches = XMM_coords.match_to_catalog_sky(BeSS_coords)\n",
    "CSC_matches = CSC_coords.match_to_catalog_sky(BeSS_coords)\n",
    "XRT_matches = XRT_coords.match_to_catalog_sky(BeSS_coords)"
   ]
  },
  {
   "cell_type": "code",
   "execution_count": 22,
   "metadata": {},
   "outputs": [],
   "source": [
    "XMM_filt = XMM_matches[1] < 5*u.arcsecond\n",
    "CSC_filt = CSC_matches[1] < 5*u.arcsecond\n",
    "XRT_filt = XRT_matches[1] < 5*u.arcsecond"
   ]
  },
  {
   "cell_type": "code",
   "execution_count": 28,
   "metadata": {},
   "outputs": [
    {
     "name": "stdout",
     "output_type": "stream",
     "text": [
      "_RAJ2000 _DEJ2000 Source _4XMM RA_ICRS ...  c  uIRAP xcatDBdet xcatDB IRAP\n",
      "  deg      deg                   deg   ...                                \n",
      "-------- -------- ------ ----- ------- ... --- ----- --------- ------ ----\n",
      "_RAJ2000 _DEJ2000 _2CXO RAICRS DEICRS   r0   ... fdw Nac ExpAC Nhrc ExpHRC\n",
      "  deg      deg           deg    deg   arcsec ...           s          s   \n",
      "-------- -------- ----- ------ ------ ------ ... --- --- ----- ---- ------\n",
      "_RAJ2000 _DEJ2000 _2SXPS IAUName RAJ2000 ... _2MASS USNOB1 _2CSC _1SXPS ALLWISE\n",
      "  deg      deg                     deg   ...                                   \n",
      "-------- -------- ------ ------- ------- ... ------ ------ ----- ------ -------\n"
     ]
    }
   ],
   "source": [
    "print(XMM[XMM_filt])\n",
    "print(CSC[CSC_filt])\n",
    "print(XRT[XRT_filt])"
   ]
  },
  {
   "cell_type": "code",
   "execution_count": null,
   "metadata": {},
   "outputs": [],
   "source": []
  }
 ],
 "metadata": {
  "kernelspec": {
   "display_name": "Python 3.6.6 64-bit",
   "language": "python",
   "name": "python36664bit6d048140c2f541d6b3a285d235ba8ba0"
  },
  "language_info": {
   "codemirror_mode": {
    "name": "ipython",
    "version": 3
   },
   "file_extension": ".py",
   "mimetype": "text/x-python",
   "name": "python",
   "nbconvert_exporter": "python",
   "pygments_lexer": "ipython3",
   "version": "3.6.6"
  },
  "toc": {
   "base_numbering": 1,
   "nav_menu": {},
   "number_sections": true,
   "sideBar": true,
   "skip_h1_title": false,
   "title_cell": "Table of Contents",
   "title_sidebar": "Contents",
   "toc_cell": false,
   "toc_position": {},
   "toc_section_display": true,
   "toc_window_display": false
  },
  "varInspector": {
   "cols": {
    "lenName": 16,
    "lenType": 16,
    "lenVar": 40
   },
   "kernels_config": {
    "python": {
     "delete_cmd_postfix": "",
     "delete_cmd_prefix": "del ",
     "library": "var_list.py",
     "varRefreshCmd": "print(var_dic_list())"
    },
    "r": {
     "delete_cmd_postfix": ") ",
     "delete_cmd_prefix": "rm(",
     "library": "var_list.r",
     "varRefreshCmd": "cat(var_dic_list()) "
    }
   },
   "types_to_exclude": [
    "module",
    "function",
    "builtin_function_or_method",
    "instance",
    "_Feature"
   ],
   "window_display": false
  }
 },
 "nbformat": 4,
 "nbformat_minor": 2
}
