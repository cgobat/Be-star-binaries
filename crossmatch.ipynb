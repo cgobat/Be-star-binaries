{
 "cells": [
  {
   "cell_type": "markdown",
   "metadata": {},
   "source": [
    "# Searching for Be stars in binaries with compact objects\n",
    "## Catalog cross-matching\n",
    "### Caden Gobat, The George Washington University\n",
    "\n",
    "Some conventions/names:\n",
    "- The first letter of `astropy.table` object variable names are capitalized\n",
    "- First letters of `pandas.DataFrame` names are lowercase\n",
    "- CXO, CSC = Chandra X-ray Observatory, Chandra Source Catalog\n",
    "- XMM, SSC = XMM-Newton, Serendipitous Source Catalog\n",
    "- XRT, XPS = (Swift) X-ray Telescope, XRT Point Source (catalog)\n",
    "- BeSS = Be Star Spectra database"
   ]
  },
  {
   "cell_type": "code",
   "execution_count": 2,
   "metadata": {
    "tags": []
   },
   "outputs": [
    {
     "name": "stdout",
     "output_type": "stream",
     "text": [
      "gzip was not found on your system! You should solve this issue for astroquery.eso to be at its best!\n",
      "On POSIX system: make sure gzip is installed and in your path!On Windows: same for 7-zip (http://www.7-zip.org)!\n"
     ]
    }
   ],
   "source": [
    "import numpy as np, pandas as pd, matplotlib.pyplot as plt, astropy.units as u, pickle, seaborn as sns\n",
    "from mpl_toolkits import mplot3d\n",
    "from scipy import stats\n",
    "from PyAstronomy import pyasl\n",
    "from astropy.io import fits, ascii as ascii_io\n",
    "from astropy.coordinates import SkyCoord, Angle\n",
    "from astroquery.vizier import Vizier\n",
    "from astroquery.simbad import Simbad\n",
    "\n",
    "from tools import hms_to_dec, dms_to_dec"
   ]
  },
  {
   "cell_type": "markdown",
   "metadata": {},
   "source": [
    "### Initialize ViZier query instance"
   ]
  },
  {
   "cell_type": "code",
   "execution_count": 8,
   "metadata": {
    "tags": []
   },
   "outputs": [],
   "source": [
    "v = Vizier(columns=['all', '_RAJ2000', '_DEJ2000', \"_r\"])\n",
    "v.ROW_LIMIT = -1 # no row limit"
   ]
  },
  {
   "cell_type": "markdown",
   "metadata": {},
   "source": [
    "### Load the [Be star database](http://basebe.obspm.fr/basebe/)"
   ]
  },
  {
   "cell_type": "code",
   "execution_count": 9,
   "metadata": {
    "tags": []
   },
   "outputs": [
    {
     "data": {
      "text/plain": [
       "&lt;Table length=2264&gt;\n",
       "         name          dtype  unit    class     n_bad\n",
       "--------------------- ------- ---- ------------ -----\n",
       "                    #   int32            Column     0\n",
       "              Be star   str26            Column     0\n",
       "             Category   str19            Column     0\n",
       "                   RA   str11            Column     0\n",
       "                  DEC   str12            Column     0\n",
       "                    V float64      MaskedColumn   310\n",
       "                 Type   str10      MaskedColumn   110\n",
       "                vsini   int32      MaskedColumn  1648\n",
       "Nb of spectra in BeSS   int32            Column     0\n",
       "             _RAJ2000 float64  deg       Column     0\n",
       "             _DEJ2000 float64  deg       Column     0"
      ]
     },
     "execution_count": 9,
     "metadata": {},
     "output_type": "execute_result"
    }
   ],
   "source": [
    "BeSS = ascii_io.read(\"./catalogs/BeSS_catalog.csv\", format=\"csv\", header_start=0, data_start=1)\n",
    "BeSS[\"_RAJ2000\"] = [hms_to_dec(hms) for hms in BeSS[\"RA\"]]*u.degree\n",
    "BeSS[\"_DEJ2000\"] = [dms_to_dec(dms) for dms in BeSS[\"DEC\"]]*u.degree\n",
    "BeSS.info"
   ]
  },
  {
   "cell_type": "markdown",
   "metadata": {},
   "source": [
    "### Crossmatch with Gaia data\n",
    "\n",
    "Create `gaia_df`, a `pandas.DataFrame` containing the single closest match (within $1^{\\prime\\prime}$) in the Gaia catalog for every entry in the BeSS database."
   ]
  },
  {
   "cell_type": "code",
   "execution_count": 100,
   "metadata": {
    "tags": []
   },
   "outputs": [],
   "source": [
    "Gaia_BeSS_1as = v.query_region(BeSS, catalog=\"I/345/gaia2\", radius=\"1s\")\n",
    "Gaia_matched = Gaia_BeSS_1as[0][\"_q\",\"_r\",\"DR2Name\",\"pmRA\",\"pmDE\",\"epsi\",\"sepsi\",\"Gmag\",\"BPmag\",\"RPmag\",\"AG\",\"RV\",\"GLON\",\"GLAT\",\"Teff\",\"Lum\",\"Rad\",\"Plx\"]\n",
    "\n",
    "gaia_df = Gaia_matched.to_pandas()\n",
    "for i in BeSS[\"#\"]:\n",
    "    instances = len(gaia_df[gaia_df[\"_q\"]==i])\n",
    "    if instances == 0:\n",
    "        pass\n",
    "    elif instances >= 2:\n",
    "        dupeframe = gaia_df[gaia_df[\"_q\"]==i][[\"_q\",\"_r\"]]\n",
    "        gaia_df.drop(dupeframe[dupeframe[\"_r\"]>min(dupeframe[\"_r\"])].index, inplace=True)\n",
    "\n",
    "gaia_df.dropna(axis=0, subset=[\"_r\"], inplace=True)\n",
    "gaia_df[\"Gflux\"] = (2835.09*10**(gaia_df[\"Gmag\"]/(-2.5)))/(3.34e4*6246.77**2) # Jy -> erg/cm^2/s/Ang\n",
    "\n",
    "assert(len(gaia_df) == len(np.unique(gaia_df[\"_q\"]))),\"Something went wrong...\""
   ]
  },
  {
   "cell_type": "markdown",
   "metadata": {},
   "source": [
    "### HMXB crossmatch\n",
    "\n",
    "- 2CXO J210335.6+454505 with 92%/100% is a HMXB in our TD\n",
    "- 2CXO J213930.6+565910 with 83%/99% is a HMXB from Simbad, but not in our TD\n",
    "- 2CXO J112057.1-615500 with 96%/100% is a HMXB from Liu+06 in our TD\n",
    "- 2CXO J223920.8+611626 with 81%/100% is a HMXB from Liu+06 in our TD\n",
    "- 2CXO J174445.7-271344 #  not significant with 45%/70% is a HMXB in our TD, but a Be Star in Simbad\n",
    "- 2CXO J024031.6+611345 #  not significant with 58%/95% is a HMXB from Liu+06\n",
    "- 2CXO J113106.9-625648 #  not significant with 36%/35% is not in our TD, is a HMXB from Simbad\n",
    "- 2CXO J130247.6-635008 #  not significant with 53%/56% is not in our TD, is a HMXB from Simbad, \n",
    "- 2CXO J134632.5-625523 #  not significant with 44%/47% is not in our TD, is a Be Star from Simbad"
   ]
  },
  {
   "cell_type": "code",
   "execution_count": 21,
   "metadata": {},
   "outputs": [],
   "source": [
    "HMXBs_BeSS_1as = v.query_region(BeSS, catalog=\"J/A+A/455/1165/table1\", radius=\"1s\")"
   ]
  },
  {
   "cell_type": "markdown",
   "metadata": {},
   "source": [
    "### XMM, Chandra, and Swift/XRT catalogs\n",
    "\n",
    "| Band      | Energy bin range |\n",
    "|-----------|------------------|\n",
    "| XMM Flux1 | 0.2 - 0.5 keV    |\n",
    "| XMM Flux2 | 0.5 - 1.0 keV    |\n",
    "| XMM Flux3 | 1.0 - 2.0 keV    |\n",
    "| XMM Flux4 | 2.0- 4.5 keV     |\n",
    "| XMM Flux5 | 4.5 - 12.0 keV   |\n",
    "| XMM Flux8 | 0.2 - 12.0 keV   |\n",
    "| XMM Flux9 | 0.5 - 4.5 keV    |\n",
    "| CXO Fluxu | 0.2 - 0.5 keV    |\n",
    "| CXO Fluxs | 0.5 - 4.2 keV    |\n",
    "| CXO Fluxm | 1.2 - 2.0 keV    |\n",
    "| CXO Fluxh | 2.0 - 7.0 keV    |\n",
    "| CXO Fluxb | 0.5 - 7.0 keV    |\n",
    "\n",
    "Load the full catalogs from locally stored copies. Crossmatch from vizier remotely."
   ]
  },
  {
   "cell_type": "code",
   "execution_count": 22,
   "metadata": {
    "tags": []
   },
   "outputs": [
    {
     "name": "stdout",
     "output_type": "stream",
     "text": [
      "Successfully matched BeSS with IX/59/xmm4dr9s\n",
      "Successfully matched BeSS with IX/57/csc2master\n",
      "Successfully matched BeSS with IX/58/2sxpscle\n"
     ]
    }
   ],
   "source": [
    "with open(\"./catalogs/xmm4dr9s.pkl\",\"rb\") as file:\n",
    "    XMM = pickle.load(file)\n",
    "with open(\"./catalogs/csc2master.pkl\",\"rb\") as file:\n",
    "    CSC = pickle.load(file)\n",
    "with open(\"./catalogs/2sxpscle.pkl\",\"rb\") as file:\n",
    "    XRT = pickle.load(file)\n",
    "\n",
    "cat_ids = [\"IX/59/xmm4dr9s\",\"IX/57/csc2master\",\"IX/58/2sxpscle\"]\n",
    "Xmatch = [None, None, None]\n",
    "for i in range(len(cat_ids)):\n",
    "    Xmatch[i] = v.query_region(BeSS, catalog=cat_ids[i], radius=\"1s\")\n",
    "    print(\"Successfully matched BeSS with\",cat_ids[i])\n",
    "[XMM_xmatch, CSC_xmatch, XRT_xmatch] = Xmatch"
   ]
  },
  {
   "cell_type": "code",
   "execution_count": 94,
   "metadata": {},
   "outputs": [],
   "source": [
    "Chandra_sources = CSC_xmatch[0][\"_q\",\"_2CXO\",\"Fluxb\",\"Fluxh\",\"Fluxm\",\"Fluxs\",\"Fluxu\",\n",
    "                                \"VaKSb\",\"VaKPb\",\"VaGLb\",\"Vib\"]\n",
    "chandra_bands = {\"b\":(0.5,7), \"h\":(2,7), \"m\":(1.2,2), \"s\":(0.5,1.2), \"u\":(0.2,0.5)}\n",
    "\n",
    "XMM_sources = XMM_xmatch[0][\"_q\",\"_4XMM\",\"Flux1\",\"Flux2\",\"Flux3\",\"Flux4\",\"Flux5\",\"Flux8\",\"Flux9\",\n",
    "                            \"Cst\",\"Fvar\",\"e_Fvar\",\"V\"]\n",
    "xmm_bands = dict(zip(list(\"1234589\"),[(0.2,0.5),(0.5,1.0),(1.0,2.0),(2.0,4.5),(4.5,12.0),(0.2,12.0),(0.5,4.5)]))"
   ]
  },
  {
   "cell_type": "markdown",
   "metadata": {},
   "source": [
    "### Compile a master catalog"
   ]
  },
  {
   "cell_type": "code",
   "execution_count": 121,
   "metadata": {},
   "outputs": [],
   "source": [
    "objs = pd.merge(gaia_df, HMXBs_BeSS_1as[0].to_pandas(), on=\"_q\", how=\"outer\")\n",
    "xray = pd.merge(XMM_sources.to_pandas(), Chandra_sources.to_pandas(), on=\"_q\", how=\"outer\")\n",
    "\n",
    "master = pd.merge(BeSS.to_pandas(), pd.merge(objs, xray, on=\"_q\", how=\"outer\"), left_on=\"#\", right_on=\"_q\", how=\"outer\")"
   ]
  },
  {
   "cell_type": "code",
   "execution_count": 122,
   "metadata": {
    "tags": []
   },
   "outputs": [],
   "source": [
    "fluxnums = [str(i) for i in [1,2,3,4,5]]\n",
    "for i in range(len(fluxnums)-1):\n",
    "    A = master[f\"Flux{fluxnums[i+1]}\"]\n",
    "    B = master[f\"Flux{fluxnums[i]}\"]\n",
    "    master[f\"HR_{fluxnums[i+1]}{fluxnums[i]}\"] = (A-B)/(A+B)\n",
    "    \n",
    "fluxchars = list(\"usmh\")\n",
    "for i in range(len(fluxchars)-1):\n",
    "    A = master[f\"Flux{fluxchars[i+1]}\"]\n",
    "    B = master[f\"Flux{fluxchars[i]}\"]\n",
    "    master[f\"HR_{fluxchars[i+1]}{fluxchars[i]}\"] = (A-B)/(A+B)\n",
    "\n",
    "for i in master.index:\n",
    "    xmm_flux = master.loc[i,\"Flux8\"]\n",
    "    cxo_flux = master.loc[i,\"Fluxb\"]\n",
    "    G_flux = master.loc[i,\"Gflux\"]\n",
    "    if pd.isna(G_flux):\n",
    "        continue\n",
    "    xmm_B_ox = np.log10(xmm_flux/G_flux)/np.log10(6.1*2.42e17/(3e18/6246.77))\n",
    "    cxo_B_ox = np.log10(cxo_flux/G_flux)/np.log10(3.75*2.42e17/(3e18/6246.77))\n",
    "    if pd.isna(xmm_B_ox):\n",
    "        master.loc[i,\"B_ox\"] = cxo_B_ox\n",
    "    elif pd.isna(cxo_B_ox):\n",
    "        master.loc[i,\"B_ox\"] = xmm_B_ox\n",
    "    else:\n",
    "        master.loc[i,\"B_ox\"] = np.mean([xmm_B_ox, cxo_B_ox])"
   ]
  },
  {
   "cell_type": "code",
   "execution_count": 123,
   "metadata": {
    "tags": []
   },
   "outputs": [],
   "source": [
    "for i in master.index:\n",
    "    flags = []\n",
    "    if not pd.isna(master.loc[i,\"Be star\"]):\n",
    "        flags.append(\"BeSS\")\n",
    "    if not pd.isna(master.loc[i,\"DR2Name\"]):\n",
    "        flags.append(\"Gaia\")\n",
    "    if not pd.isna(master.loc[i,\"Name\"]):\n",
    "        flags.append(\"HMXB\")\n",
    "    if not pd.isna(master.loc[i,\"_4XMM\"]):\n",
    "        flags.append(\"XMM\")\n",
    "    if not pd.isna(master.loc[i,\"_2CXO\"]):\n",
    "        flags.append(\"Chandra\")\n",
    "    master.loc[i,\"flags\"] = \",\".join(flags)"
   ]
  },
  {
   "cell_type": "code",
   "execution_count": 124,
   "metadata": {},
   "outputs": [],
   "source": [
    "master.drop(['RA','DEC','_r_x','_RAJ2000_y','_DEJ2000_y','_r_y','RAJ2000','DEJ2000','GLON_y','GLAT_y',\"u_Name2\"], axis=1, inplace=True)\n",
    "master.rename(columns={\"V_x\":\"V\",\"Type_x\":\"SpecType\",'_RAJ2000_x':\"_RAJ2000\",'_DEJ2000_x':\"_DEJ2000\",\"GLON_x\":\"GLON\",\"GLAT_x\":\"GLAT\",\"Type_y\":\"Type\",\"V_y\":\"Vflag\"}, inplace=True)"
   ]
  },
  {
   "cell_type": "code",
   "execution_count": 125,
   "metadata": {},
   "outputs": [],
   "source": [
    "master.to_csv(\"./catalogs/BeSS+Gaia+HMXBs+CSC+XMM.csv\", index=False)"
   ]
  },
  {
   "cell_type": "code",
   "execution_count": null,
   "metadata": {},
   "outputs": [],
   "source": []
  }
 ],
 "metadata": {
  "hide_input": false,
  "kernelspec": {
   "display_name": "Python 3.6.6 64-bit",
   "language": "python",
   "name": "python36664bit6d048140c2f541d6b3a285d235ba8ba0"
  },
  "language_info": {
   "codemirror_mode": {
    "name": "ipython",
    "version": 3
   },
   "file_extension": ".py",
   "mimetype": "text/x-python",
   "name": "python",
   "nbconvert_exporter": "python",
   "pygments_lexer": "ipython3",
   "version": "3.6.6"
  },
  "latex_envs": {
   "LaTeX_envs_menu_present": true,
   "autoclose": true,
   "autocomplete": true,
   "bibliofile": "biblio.bib",
   "cite_by": "apalike",
   "current_citInitial": 1,
   "eqLabelWithNumbers": true,
   "eqNumInitial": 1,
   "hotkeys": {
    "equation": "Ctrl-E",
    "itemize": "Ctrl-I"
   },
   "labels_anchors": false,
   "latex_user_defs": false,
   "report_style_numbering": false,
   "user_envs_cfg": false
  },
  "toc": {
   "base_numbering": 1,
   "nav_menu": {},
   "number_sections": true,
   "sideBar": true,
   "skip_h1_title": false,
   "title_cell": "Table of Contents",
   "title_sidebar": "Contents",
   "toc_cell": false,
   "toc_position": {},
   "toc_section_display": true,
   "toc_window_display": false
  },
  "varInspector": {
   "cols": {
    "lenName": 16,
    "lenType": 16,
    "lenVar": 40
   },
   "kernels_config": {
    "python": {
     "delete_cmd_postfix": "",
     "delete_cmd_prefix": "del ",
     "library": "var_list.py",
     "varRefreshCmd": "print(var_dic_list())"
    },
    "r": {
     "delete_cmd_postfix": ") ",
     "delete_cmd_prefix": "rm(",
     "library": "var_list.r",
     "varRefreshCmd": "cat(var_dic_list()) "
    }
   },
   "types_to_exclude": [
    "module",
    "function",
    "builtin_function_or_method",
    "instance",
    "_Feature"
   ],
   "window_display": false
  }
 },
 "nbformat": 4,
 "nbformat_minor": 2
}
